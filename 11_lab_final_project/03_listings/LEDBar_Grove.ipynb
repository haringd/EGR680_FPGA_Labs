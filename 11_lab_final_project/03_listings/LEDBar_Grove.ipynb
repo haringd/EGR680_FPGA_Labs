{
 "cells": [
  {
   "cell_type": "markdown",
   "metadata": {},
   "source": [
    "# Part II - LED Groove Bar\n",
    "Demonstrates how the LED Groove Bar level is set with slider SL1. The brightness can be chosen in four levels with slider SL2.\n",
    "\n",
    "LED Bar Brightness\n",
    " - 0 = off\n",
    " - 1 = low\n",
    " - 2 = medium\n",
    " - 3 = hight "
   ]
  },
  {
   "cell_type": "code",
   "execution_count": 2,
   "metadata": {},
   "outputs": [
    {
     "name": "stdout",
     "output_type": "stream",
     "text": [
      "Changed LED Driver to MYRGBLED.\n",
      "Changed LED Driver to MYRGBLED.\n"
     ]
    },
    {
     "data": {
      "application/vnd.jupyter.widget-view+json": {
       "model_id": "03aae171a12948e9a47e48d1e18d04d5",
       "version_major": 2,
       "version_minor": 0
      },
      "text/html": [
       "<p>Failed to display Jupyter Widget of type <code>IntSlider</code>.</p>\n",
       "<p>\n",
       "  If you're reading this message in the Jupyter Notebook or JupyterLab Notebook, it may mean\n",
       "  that the widgets JavaScript is still loading. If this message persists, it\n",
       "  likely means that the widgets JavaScript library is either not installed or\n",
       "  not enabled. See the <a href=\"https://ipywidgets.readthedocs.io/en/stable/user_install.html\">Jupyter\n",
       "  Widgets Documentation</a> for setup instructions.\n",
       "</p>\n",
       "<p>\n",
       "  If you're reading this message in another frontend (for example, a static\n",
       "  rendering on GitHub or <a href=\"https://nbviewer.jupyter.org/\">NBViewer</a>),\n",
       "  it may mean that your frontend doesn't currently support widgets.\n",
       "</p>\n"
      ],
      "text/plain": [
       "IntSlider(value=0, description='SL1', max=10)"
      ]
     },
     "metadata": {},
     "output_type": "display_data"
    },
    {
     "data": {
      "application/vnd.jupyter.widget-view+json": {
       "model_id": "c65cb1f26fa140d4a048579fd96439a5",
       "version_major": 2,
       "version_minor": 0
      },
      "text/html": [
       "<p>Failed to display Jupyter Widget of type <code>IntSlider</code>.</p>\n",
       "<p>\n",
       "  If you're reading this message in the Jupyter Notebook or JupyterLab Notebook, it may mean\n",
       "  that the widgets JavaScript is still loading. If this message persists, it\n",
       "  likely means that the widgets JavaScript library is either not installed or\n",
       "  not enabled. See the <a href=\"https://ipywidgets.readthedocs.io/en/stable/user_install.html\">Jupyter\n",
       "  Widgets Documentation</a> for setup instructions.\n",
       "</p>\n",
       "<p>\n",
       "  If you're reading this message in another frontend (for example, a static\n",
       "  rendering on GitHub or <a href=\"https://nbviewer.jupyter.org/\">NBViewer</a>),\n",
       "  it may mean that your frontend doesn't currently support widgets.\n",
       "</p>\n"
      ],
      "text/plain": [
       "IntSlider(value=0, description='SL2', max=3)"
      ]
     },
     "metadata": {},
     "output_type": "display_data"
    }
   ],
   "source": [
    "# Steup the PYNQ board\n",
    "from pynq.overlays.base import BaseOverlay\n",
    "base = BaseOverlay(\"base.bit\")\n",
    "\n",
    "from pynq.lib.pmod import Grove_LEDbar\n",
    "from pynq.lib.pmod import PMOD_GROVE_G1 # Import constants\n",
    "import ipywidgets as widgets\n",
    "from IPython.display import display\n",
    "\n",
    "# For delays\n",
    "from time import sleep\n",
    "\n",
    "# Global values\n",
    "g_ledBrightness  = 3\n",
    "g_leds = 0\n",
    "\n",
    "# defined functions\n",
    "def handle_slider1_change(change):\n",
    "    global g_leds\n",
    "    ledbar.write_level(change.new, g_ledBrightness, 1)\n",
    "    g_leds = change.new\n",
    "def handle_slider2_change(change):\n",
    "    global g_ledBrightness\n",
    "    g_ledBrightness = change.new\n",
    "    ledbar.write_level(g_leds, change.new, 1)\n",
    "   # ledbar.write_brightness(ledbar.read(), change.new)\n",
    "\n",
    "\n",
    "# Instantiate Grove LED Bar on PMODA and on Pmod2Grove G1\n",
    "ledbar = Grove_LEDbar(base.PMODA, PMOD_GROVE_G1)\n",
    "ledbar.reset()\n",
    "\n",
    "# Flash 2 extreme LEDs of the LED Bar in a loop, dubbiging only\n",
    "# for i in range(5):\n",
    "#     ledbar.write_binary(0b1000000001)\n",
    "#     sleep(0.5)\n",
    "#     ledbar.write_binary(0b0000000000)\n",
    "#     sleep(0.5)\n",
    "\n",
    "# GUI \n",
    "slider1 = widgets.IntSlider(min=0, max=10, value=0, description='SL1')\n",
    "slider2 = widgets.IntSlider(min=0, max=3, value=0, description='SL2')\n",
    "\n",
    "slider1.observe(handle_slider1_change, names='value')\n",
    "slider2.observe(handle_slider2_change, names='value')\n",
    "\n",
    "display(slider1, slider2)"
   ]
  },
  {
   "cell_type": "code",
   "execution_count": null,
   "metadata": {},
   "outputs": [],
   "source": []
  }
 ],
 "metadata": {
  "kernelspec": {
   "display_name": "Python 3",
   "language": "python",
   "name": "python3"
  },
  "language_info": {
   "codemirror_mode": {
    "name": "ipython",
    "version": 3
   },
   "file_extension": ".py",
   "mimetype": "text/x-python",
   "name": "python",
   "nbconvert_exporter": "python",
   "pygments_lexer": "ipython3",
   "version": "3.6.0"
  }
 },
 "nbformat": 4,
 "nbformat_minor": 2
}
